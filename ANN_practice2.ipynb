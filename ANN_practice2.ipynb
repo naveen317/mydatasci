{
 "cells": [
  {
   "cell_type": "code",
   "execution_count": 0,
   "metadata": {
    "colab": {},
    "colab_type": "code",
    "id": "VKhSIp1Muqve"
   },
   "outputs": [],
   "source": [
    "import numpy as np\n",
    "import pandas as pd"
   ]
  },
  {
   "cell_type": "code",
   "execution_count": 0,
   "metadata": {
    "colab": {},
    "colab_type": "code",
    "id": "MkBEPTjUvyIy"
   },
   "outputs": [],
   "source": [
    "dataframe = pd.read_csv('Churn_Modelling.csv')\n",
    "#data = dataframe.values"
   ]
  },
  {
   "cell_type": "code",
   "execution_count": 0,
   "metadata": {
    "colab": {},
    "colab_type": "code",
    "id": "GBYqDgXKv9yv"
   },
   "outputs": [],
   "source": [
    "x= dataframe.iloc[:,3:13].values\n",
    "y = dataframe.iloc[:,13].values"
   ]
  },
  {
   "cell_type": "code",
   "execution_count": 7,
   "metadata": {
    "colab": {
     "base_uri": "https://localhost:8080/",
     "height": 34
    },
    "colab_type": "code",
    "id": "z-qknQ1lxA2v",
    "outputId": "59c5b084-1aba-4d73-aa92-8aa73f80100f"
   },
   "outputs": [
    {
     "name": "stderr",
     "output_type": "stream",
     "text": [
      "Using TensorFlow backend.\n"
     ]
    }
   ],
   "source": [
    "from sklearn.preprocessing import LabelEncoder\n",
    "from sklearn.preprocessing import OneHotEncoder\n",
    "from keras.utils import np_utils\n",
    "from sklearn.model_selection import cross_val_score\n",
    "from sklearn.model_selection import KFold\n",
    "from keras.models import Sequential,Model\n",
    "from keras.layers import Dense,Input,Activation"
   ]
  },
  {
   "cell_type": "code",
   "execution_count": 0,
   "metadata": {
    "colab": {},
    "colab_type": "code",
    "id": "otceBbGk8_xi"
   },
   "outputs": [],
   "source": [
    "encoder = LabelEncoder()\n",
    "#encoder.fit(x[:,2])\n",
    "x[:,1] = encoder.fit_transform(x[:,1])\n",
    "x[:,2] = encoder.fit_transform(x[:,2])\n",
    "\n",
    "oneEncoder = OneHotEncoder(categorical_features = [1])\n",
    "x = oneEncoder.fit_transform(x).toarray()\n",
    "x = x[:,1:]"
   ]
  },
  {
   "cell_type": "code",
   "execution_count": 10,
   "metadata": {
    "colab": {
     "base_uri": "https://localhost:8080/",
     "height": 238
    },
    "colab_type": "code",
    "id": "cbFRQZfY9Y0n",
    "outputId": "8583e011-da52-4afc-d39c-864c51cbc2f7"
   },
   "outputs": [
    {
     "data": {
      "text/plain": [
       "array([[0.0000000e+00, 0.0000000e+00, 6.1900000e+02, ..., 1.0000000e+00,\n",
       "        1.0000000e+00, 1.0134888e+05],\n",
       "       [0.0000000e+00, 1.0000000e+00, 6.0800000e+02, ..., 0.0000000e+00,\n",
       "        1.0000000e+00, 1.1254258e+05],\n",
       "       [0.0000000e+00, 0.0000000e+00, 5.0200000e+02, ..., 1.0000000e+00,\n",
       "        0.0000000e+00, 1.1393157e+05],\n",
       "       ...,\n",
       "       [0.0000000e+00, 0.0000000e+00, 7.0900000e+02, ..., 0.0000000e+00,\n",
       "        1.0000000e+00, 4.2085580e+04],\n",
       "       [1.0000000e+00, 0.0000000e+00, 7.7200000e+02, ..., 1.0000000e+00,\n",
       "        0.0000000e+00, 9.2888520e+04],\n",
       "       [0.0000000e+00, 0.0000000e+00, 7.9200000e+02, ..., 1.0000000e+00,\n",
       "        0.0000000e+00, 3.8190780e+04]])"
      ]
     },
     "execution_count": 10,
     "metadata": {
      "tags": []
     },
     "output_type": "execute_result"
    }
   ],
   "source": [
    "x"
   ]
  },
  {
   "cell_type": "code",
   "execution_count": 0,
   "metadata": {
    "colab": {},
    "colab_type": "code",
    "id": "DhxHMJlxtBBH"
   },
   "outputs": [],
   "source": [
    "from sklearn.model_selection import train_test_split\n",
    "x_train,x_test,y_train,y_test = train_test_split(x,y,test_size = 0.2,random_state = 42)"
   ]
  },
  {
   "cell_type": "code",
   "execution_count": 0,
   "metadata": {
    "colab": {},
    "colab_type": "code",
    "id": "8-s-yOv6tXY_"
   },
   "outputs": [],
   "source": [
    "from sklearn.preprocessing import StandardScaler\n",
    "sc = StandardScaler()\n",
    "x_train = sc.fit_transform(x_train)\n",
    "x_test = sc.transform(x_test)\n"
   ]
  },
  {
   "cell_type": "code",
   "execution_count": 15,
   "metadata": {
    "colab": {
     "base_uri": "https://localhost:8080/",
     "height": 1482
    },
    "colab_type": "code",
    "id": "lnv-TBpa9yH_",
    "outputId": "bee1fff5-7caf-4972-be20-06a38d2e53a6"
   },
   "outputs": [
    {
     "name": "stderr",
     "output_type": "stream",
     "text": [
      "/usr/local/lib/python3.6/dist-packages/ipykernel_launcher.py:3: UserWarning: Update your `Dense` call to the Keras 2 API: `Dense(input_dim=11, activation=\"relu\", units=6, kernel_initializer=\"uniform\")`\n",
      "  This is separate from the ipykernel package so we can avoid doing imports until\n",
      "/usr/local/lib/python3.6/dist-packages/keras/models.py:981: UserWarning: The `nb_epoch` argument in `fit` has been renamed `epochs`.\n",
      "  warnings.warn('The `nb_epoch` argument in `fit` '\n"
     ]
    },
    {
     "name": "stdout",
     "output_type": "stream",
     "text": [
      "Epoch 1/40\n",
      "8000/8000 [==============================] - 1s 180us/step - loss: 0.4896 - acc: 0.8099\n",
      "Epoch 2/40\n",
      "8000/8000 [==============================] - 1s 134us/step - loss: 0.3966 - acc: 0.8337\n",
      "Epoch 3/40\n",
      "8000/8000 [==============================] - 1s 126us/step - loss: 0.3714 - acc: 0.8479\n",
      "Epoch 4/40\n",
      "8000/8000 [==============================] - 1s 125us/step - loss: 0.3588 - acc: 0.8544\n",
      "Epoch 5/40\n",
      "8000/8000 [==============================] - 1s 124us/step - loss: 0.3519 - acc: 0.8577\n",
      "Epoch 6/40\n",
      "8000/8000 [==============================] - 1s 125us/step - loss: 0.3485 - acc: 0.8597\n",
      "Epoch 7/40\n",
      "8000/8000 [==============================] - 1s 123us/step - loss: 0.3462 - acc: 0.8585\n",
      "Epoch 8/40\n",
      "8000/8000 [==============================] - 1s 125us/step - loss: 0.3450 - acc: 0.8592\n",
      "Epoch 9/40\n",
      "8000/8000 [==============================] - 1s 124us/step - loss: 0.3439 - acc: 0.8587\n",
      "Epoch 10/40\n",
      "8000/8000 [==============================] - 1s 125us/step - loss: 0.3426 - acc: 0.8627\n",
      "Epoch 11/40\n",
      "8000/8000 [==============================] - 1s 124us/step - loss: 0.3427 - acc: 0.8615\n",
      "Epoch 12/40\n",
      "8000/8000 [==============================] - 1s 126us/step - loss: 0.3419 - acc: 0.8597\n",
      "Epoch 13/40\n",
      "8000/8000 [==============================] - 1s 128us/step - loss: 0.3420 - acc: 0.8605\n",
      "Epoch 14/40\n",
      "8000/8000 [==============================] - 1s 125us/step - loss: 0.3410 - acc: 0.8611\n",
      "Epoch 15/40\n",
      "8000/8000 [==============================] - 1s 124us/step - loss: 0.3406 - acc: 0.8610\n",
      "Epoch 16/40\n",
      "8000/8000 [==============================] - 1s 125us/step - loss: 0.3405 - acc: 0.8605\n",
      "Epoch 17/40\n",
      "8000/8000 [==============================] - 1s 125us/step - loss: 0.3398 - acc: 0.8605\n",
      "Epoch 18/40\n",
      "8000/8000 [==============================] - 1s 126us/step - loss: 0.3395 - acc: 0.8596\n",
      "Epoch 19/40\n",
      "8000/8000 [==============================] - 1s 126us/step - loss: 0.3391 - acc: 0.8607\n",
      "Epoch 20/40\n",
      "8000/8000 [==============================] - 1s 125us/step - loss: 0.3385 - acc: 0.8631\n",
      "Epoch 21/40\n",
      "8000/8000 [==============================] - 1s 128us/step - loss: 0.3393 - acc: 0.8607\n",
      "Epoch 22/40\n",
      "8000/8000 [==============================] - 1s 125us/step - loss: 0.3388 - acc: 0.8612\n",
      "Epoch 23/40\n",
      "8000/8000 [==============================] - 1s 126us/step - loss: 0.3385 - acc: 0.8609\n",
      "Epoch 24/40\n",
      "8000/8000 [==============================] - 1s 126us/step - loss: 0.3381 - acc: 0.8599\n",
      "Epoch 25/40\n",
      "8000/8000 [==============================] - 1s 126us/step - loss: 0.3382 - acc: 0.8630\n",
      "Epoch 26/40\n",
      "8000/8000 [==============================] - 1s 126us/step - loss: 0.3378 - acc: 0.8627\n",
      "Epoch 27/40\n",
      "8000/8000 [==============================] - 1s 129us/step - loss: 0.3380 - acc: 0.8611\n",
      "Epoch 28/40\n",
      "8000/8000 [==============================] - 1s 125us/step - loss: 0.3381 - acc: 0.8612\n",
      "Epoch 29/40\n",
      "8000/8000 [==============================] - 1s 126us/step - loss: 0.3375 - acc: 0.8602\n",
      "Epoch 30/40\n",
      "8000/8000 [==============================] - 1s 126us/step - loss: 0.3375 - acc: 0.8635\n",
      "Epoch 31/40\n",
      "8000/8000 [==============================] - 1s 125us/step - loss: 0.3373 - acc: 0.8612\n",
      "Epoch 32/40\n",
      "8000/8000 [==============================] - 1s 126us/step - loss: 0.3373 - acc: 0.8621\n",
      "Epoch 33/40\n",
      "8000/8000 [==============================] - 1s 126us/step - loss: 0.3373 - acc: 0.8599\n",
      "Epoch 34/40\n",
      "8000/8000 [==============================] - 1s 124us/step - loss: 0.3364 - acc: 0.8620\n",
      "Epoch 35/40\n",
      "8000/8000 [==============================] - 1s 124us/step - loss: 0.3367 - acc: 0.8606\n",
      "Epoch 36/40\n",
      "8000/8000 [==============================] - 1s 124us/step - loss: 0.3366 - acc: 0.8625\n",
      "Epoch 37/40\n",
      "8000/8000 [==============================] - 1s 125us/step - loss: 0.3363 - acc: 0.8627\n",
      "Epoch 38/40\n",
      "8000/8000 [==============================] - 1s 125us/step - loss: 0.3360 - acc: 0.8621\n",
      "Epoch 39/40\n",
      "8000/8000 [==============================] - 1s 129us/step - loss: 0.3364 - acc: 0.8625\n",
      "Epoch 40/40\n",
      "8000/8000 [==============================] - 1s 122us/step - loss: 0.3359 - acc: 0.8621\n"
     ]
    },
    {
     "data": {
      "text/plain": [
       "<keras.callbacks.History at 0x7fdf66e1e748>"
      ]
     },
     "execution_count": 15,
     "metadata": {
      "tags": []
     },
     "output_type": "execute_result"
    }
   ],
   "source": [
    "\n",
    "classifier = Sequential()\n",
    "classifier.add(Dense(output_dim=6, input_dim = 11, init= 'uniform', activation = 'relu'))\n",
    "classifier.add(Dense(1, activation = 'sigmoid'))\n",
    "classifier.compile(loss = 'binary_crossentropy', optimizer = 'adam', metrics = ['accuracy'])\n",
    "classifier.fit(x_train,y_train,batch_size = 10,nb_epoch = 40)"
   ]
  },
  {
   "cell_type": "code",
   "execution_count": 16,
   "metadata": {
    "colab": {
     "base_uri": "https://localhost:8080/",
     "height": 204
    },
    "colab_type": "code",
    "id": "jVHZzv7XAyA3",
    "outputId": "0b78b8d6-b0b4-4ce5-cafc-f40aaf7657ea"
   },
   "outputs": [
    {
     "name": "stdout",
     "output_type": "stream",
     "text": [
      "_________________________________________________________________\n",
      "Layer (type)                 Output Shape              Param #   \n",
      "=================================================================\n",
      "dense_3 (Dense)              (None, 6)                 72        \n",
      "_________________________________________________________________\n",
      "dense_4 (Dense)              (None, 1)                 7         \n",
      "=================================================================\n",
      "Total params: 79\n",
      "Trainable params: 79\n",
      "Non-trainable params: 0\n",
      "_________________________________________________________________\n"
     ]
    }
   ],
   "source": [
    "classifier.summary()"
   ]
  },
  {
   "cell_type": "code",
   "execution_count": 17,
   "metadata": {
    "colab": {
     "base_uri": "https://localhost:8080/",
     "height": 34
    },
    "colab_type": "code",
    "id": "0QtuNAKvA3QU",
    "outputId": "c7e1f88d-25ed-4297-8435-523cf5a990fb"
   },
   "outputs": [
    {
     "data": {
      "text/plain": [
       "[<keras.engine.topology.InputLayer at 0x7fdf66e188d0>]"
      ]
     },
     "execution_count": 17,
     "metadata": {
      "tags": []
     },
     "output_type": "execute_result"
    }
   ],
   "source": [
    "classifier.input_layers"
   ]
  },
  {
   "cell_type": "code",
   "execution_count": 0,
   "metadata": {
    "colab": {},
    "colab_type": "code",
    "id": "x7nNSi87BFCN"
   },
   "outputs": [],
   "source": [
    "y_pred = classifier.predict(x_test)\n",
    "#y_pred= (y_pred > 0.5)"
   ]
  },
  {
   "cell_type": "code",
   "execution_count": 21,
   "metadata": {
    "colab": {
     "base_uri": "https://localhost:8080/",
     "height": 136
    },
    "colab_type": "code",
    "id": "au5yDv3DvAfp",
    "outputId": "87a15bc5-c3da-440e-cbb1-a2a4a3c1a0e8"
   },
   "outputs": [
    {
     "data": {
      "text/plain": [
       "array([[0.03300302],\n",
       "       [0.02176017],\n",
       "       [0.13681385],\n",
       "       ...,\n",
       "       [0.7050545 ],\n",
       "       [0.15456761],\n",
       "       [0.29692483]], dtype=float32)"
      ]
     },
     "execution_count": 21,
     "metadata": {
      "tags": []
     },
     "output_type": "execute_result"
    }
   ],
   "source": [
    "y_pred"
   ]
  },
  {
   "cell_type": "code",
   "execution_count": 0,
   "metadata": {
    "colab": {},
    "colab_type": "code",
    "id": "jvorzwMbvCLe"
   },
   "outputs": [],
   "source": [
    "pred_ = classifier.predict(sc.transform(np.array([[0.0,0,6000,1,40,3,60000,2,1,1,50000]])))"
   ]
  },
  {
   "cell_type": "code",
   "execution_count": 27,
   "metadata": {
    "colab": {
     "base_uri": "https://localhost:8080/",
     "height": 34
    },
    "colab_type": "code",
    "id": "zVi3LF1dv7fm",
    "outputId": "71cc4446-5097-43b9-edde-7ade9d635130"
   },
   "outputs": [
    {
     "data": {
      "text/plain": [
       "array([[0.7977505]], dtype=float32)"
      ]
     },
     "execution_count": 27,
     "metadata": {
      "tags": []
     },
     "output_type": "execute_result"
    }
   ],
   "source": [
    "pred_"
   ]
  },
  {
   "cell_type": "code",
   "execution_count": 0,
   "metadata": {
    "colab": {},
    "colab_type": "code",
    "id": "qTNZj9VZwJ5a"
   },
   "outputs": [],
   "source": [
    ""
   ]
  }
 ],
 "metadata": {
  "accelerator": "TPU",
  "colab": {
   "name": "ANN practice2.ipynb",
   "provenance": [],
   "toc_visible": true,
   "version": "0.3.2"
  },
  "kernelspec": {
   "display_name": "Python 3",
   "name": "python3"
  }
 },
 "nbformat": 4,
 "nbformat_minor": 0
}
