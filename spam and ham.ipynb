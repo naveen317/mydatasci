{
 "cells": [
  {
   "cell_type": "code",
   "execution_count": 4,
   "metadata": {},
   "outputs": [],
   "source": [
    "import pandas as pd\n",
    "import numpy as np"
   ]
  },
  {
   "cell_type": "code",
   "execution_count": 7,
   "metadata": {},
   "outputs": [],
   "source": [
    "url = 'https://raw.githubusercontent.com/justmarkham/pycon-2016-tutorial/master/data/sms.tsv'\n",
    "sms = pd.read_table(url,header=None, names=['label','message'])"
   ]
  },
  {
   "cell_type": "code",
   "execution_count": 8,
   "metadata": {},
   "outputs": [
    {
     "data": {
      "text/html": [
       "<div>\n",
       "<style scoped>\n",
       "    .dataframe tbody tr th:only-of-type {\n",
       "        vertical-align: middle;\n",
       "    }\n",
       "\n",
       "    .dataframe tbody tr th {\n",
       "        vertical-align: top;\n",
       "    }\n",
       "\n",
       "    .dataframe thead th {\n",
       "        text-align: right;\n",
       "    }\n",
       "</style>\n",
       "<table border=\"1\" class=\"dataframe\">\n",
       "  <thead>\n",
       "    <tr style=\"text-align: right;\">\n",
       "      <th></th>\n",
       "      <th>label</th>\n",
       "      <th>message</th>\n",
       "    </tr>\n",
       "  </thead>\n",
       "  <tbody>\n",
       "    <tr>\n",
       "      <th>0</th>\n",
       "      <td>ham</td>\n",
       "      <td>Go until jurong point, crazy.. Available only ...</td>\n",
       "    </tr>\n",
       "    <tr>\n",
       "      <th>1</th>\n",
       "      <td>ham</td>\n",
       "      <td>Ok lar... Joking wif u oni...</td>\n",
       "    </tr>\n",
       "    <tr>\n",
       "      <th>2</th>\n",
       "      <td>spam</td>\n",
       "      <td>Free entry in 2 a wkly comp to win FA Cup fina...</td>\n",
       "    </tr>\n",
       "    <tr>\n",
       "      <th>3</th>\n",
       "      <td>ham</td>\n",
       "      <td>U dun say so early hor... U c already then say...</td>\n",
       "    </tr>\n",
       "    <tr>\n",
       "      <th>4</th>\n",
       "      <td>ham</td>\n",
       "      <td>Nah I don't think he goes to usf, he lives aro...</td>\n",
       "    </tr>\n",
       "  </tbody>\n",
       "</table>\n",
       "</div>"
      ],
      "text/plain": [
       "  label                                            message\n",
       "0   ham  Go until jurong point, crazy.. Available only ...\n",
       "1   ham                      Ok lar... Joking wif u oni...\n",
       "2  spam  Free entry in 2 a wkly comp to win FA Cup fina...\n",
       "3   ham  U dun say so early hor... U c already then say...\n",
       "4   ham  Nah I don't think he goes to usf, he lives aro..."
      ]
     },
     "execution_count": 8,
     "metadata": {},
     "output_type": "execute_result"
    }
   ],
   "source": [
    "sms.head()"
   ]
  },
  {
   "cell_type": "code",
   "execution_count": 12,
   "metadata": {},
   "outputs": [],
   "source": [
    "sms['label1'] = sms.label.map({'ham':0,'spam':1})"
   ]
  },
  {
   "cell_type": "code",
   "execution_count": 13,
   "metadata": {},
   "outputs": [],
   "source": [
    "x = sms.message\n",
    "y=sms.label"
   ]
  },
  {
   "cell_type": "code",
   "execution_count": 14,
   "metadata": {},
   "outputs": [
    {
     "data": {
      "text/plain": [
       "(0       Go until jurong point, crazy.. Available only ...\n",
       " 1                           Ok lar... Joking wif u oni...\n",
       " 2       Free entry in 2 a wkly comp to win FA Cup fina...\n",
       " 3       U dun say so early hor... U c already then say...\n",
       " 4       Nah I don't think he goes to usf, he lives aro...\n",
       " 5       FreeMsg Hey there darling it's been 3 week's n...\n",
       " 6       Even my brother is not like to speak with me. ...\n",
       " 7       As per your request 'Melle Melle (Oru Minnamin...\n",
       " 8       WINNER!! As a valued network customer you have...\n",
       " 9       Had your mobile 11 months or more? U R entitle...\n",
       " 10      I'm gonna be home soon and i don't want to tal...\n",
       " 11      SIX chances to win CASH! From 100 to 20,000 po...\n",
       " 12      URGENT! You have won a 1 week FREE membership ...\n",
       " 13      I've been searching for the right words to tha...\n",
       " 14                    I HAVE A DATE ON SUNDAY WITH WILL!!\n",
       " 15      XXXMobileMovieClub: To use your credit, click ...\n",
       " 16                             Oh k...i'm watching here:)\n",
       " 17      Eh u remember how 2 spell his name... Yes i di...\n",
       " 18      Fine if thats the way u feel. Thats the way ...\n",
       " 19      England v Macedonia - dont miss the goals/team...\n",
       " 20              Is that seriously how you spell his name?\n",
       " 21        I‘m going to try for 2 months ha ha only joking\n",
       " 22      So ü pay first lar... Then when is da stock co...\n",
       " 23      Aft i finish my lunch then i go str down lor. ...\n",
       " 24      Ffffffffff. Alright no way I can meet up with ...\n",
       " 25      Just forced myself to eat a slice. I'm really ...\n",
       " 26                         Lol your always so convincing.\n",
       " 27      Did you catch the bus ? Are you frying an egg ...\n",
       " 28      I'm back &amp; we're packing the car now, I'll...\n",
       " 29      Ahhh. Work. I vaguely remember that! What does...\n",
       "                               ...                        \n",
       " 5542             Armand says get your ass over to epsilon\n",
       " 5543               U still havent got urself a jacket ah?\n",
       " 5544    I'm taking derek &amp; taylor to walmart, if I...\n",
       " 5545        Hi its in durban are you still on this number\n",
       " 5546           Ic. There are a lotta childporn cars then.\n",
       " 5547    Had your contract mobile 11 Mnths? Latest Moto...\n",
       " 5548                   No, I was trying it all weekend ;V\n",
       " 5549    You know, wot people wear. T shirts, jumpers, ...\n",
       " 5550          Cool, what time you think you can get here?\n",
       " 5551    Wen did you get so spiritual and deep. That's ...\n",
       " 5552    Have a safe trip to Nigeria. Wish you happines...\n",
       " 5553                          Hahaha..use your brain dear\n",
       " 5554    Well keep in mind I've only got enough gas for...\n",
       " 5555    Yeh. Indians was nice. Tho it did kane me off ...\n",
       " 5556    Yes i have. So that's why u texted. Pshew...mi...\n",
       " 5557    No. I meant the calculation is the same. That ...\n",
       " 5558                               Sorry, I'll call later\n",
       " 5559    if you aren't here in the next  &lt;#&gt;  hou...\n",
       " 5560                    Anything lor. Juz both of us lor.\n",
       " 5561    Get me out of this dump heap. My mom decided t...\n",
       " 5562    Ok lor... Sony ericsson salesman... I ask shuh...\n",
       " 5563                                  Ard 6 like dat lor.\n",
       " 5564    Why don't you wait 'til at least wednesday to ...\n",
       " 5565                                         Huh y lei...\n",
       " 5566    REMINDER FROM O2: To get 2.50 pounds free call...\n",
       " 5567    This is the 2nd time we have tried 2 contact u...\n",
       " 5568                 Will ü b going to esplanade fr home?\n",
       " 5569    Pity, * was in mood for that. So...any other s...\n",
       " 5570    The guy did some bitching but I acted like i'd...\n",
       " 5571                           Rofl. Its true to its name\n",
       " Name: message, Length: 5572, dtype: object, 0        ham\n",
       " 1        ham\n",
       " 2       spam\n",
       " 3        ham\n",
       " 4        ham\n",
       " 5       spam\n",
       " 6        ham\n",
       " 7        ham\n",
       " 8       spam\n",
       " 9       spam\n",
       " 10       ham\n",
       " 11      spam\n",
       " 12      spam\n",
       " 13       ham\n",
       " 14       ham\n",
       " 15      spam\n",
       " 16       ham\n",
       " 17       ham\n",
       " 18       ham\n",
       " 19      spam\n",
       " 20       ham\n",
       " 21       ham\n",
       " 22       ham\n",
       " 23       ham\n",
       " 24       ham\n",
       " 25       ham\n",
       " 26       ham\n",
       " 27       ham\n",
       " 28       ham\n",
       " 29       ham\n",
       "         ... \n",
       " 5542     ham\n",
       " 5543     ham\n",
       " 5544     ham\n",
       " 5545     ham\n",
       " 5546     ham\n",
       " 5547    spam\n",
       " 5548     ham\n",
       " 5549     ham\n",
       " 5550     ham\n",
       " 5551     ham\n",
       " 5552     ham\n",
       " 5553     ham\n",
       " 5554     ham\n",
       " 5555     ham\n",
       " 5556     ham\n",
       " 5557     ham\n",
       " 5558     ham\n",
       " 5559     ham\n",
       " 5560     ham\n",
       " 5561     ham\n",
       " 5562     ham\n",
       " 5563     ham\n",
       " 5564     ham\n",
       " 5565     ham\n",
       " 5566    spam\n",
       " 5567    spam\n",
       " 5568     ham\n",
       " 5569     ham\n",
       " 5570     ham\n",
       " 5571     ham\n",
       " Name: label, Length: 5572, dtype: object)"
      ]
     },
     "execution_count": 14,
     "metadata": {},
     "output_type": "execute_result"
    }
   ],
   "source": [
    "x,y"
   ]
  },
  {
   "cell_type": "code",
   "execution_count": 17,
   "metadata": {},
   "outputs": [],
   "source": [
    "from sklearn.model_selection import train_test_split\n",
    "x_train,x_test,y_train,y_test=train_test_split(x,y, test_size=0.2,random_state=1)"
   ]
  },
  {
   "cell_type": "code",
   "execution_count": null,
   "metadata": {},
   "outputs": [],
   "source": [
    "from sklearn.feature_extraction.text"
   ]
  }
 ],
 "metadata": {
  "kernelspec": {
   "display_name": "Python 3",
   "language": "python",
   "name": "python3"
  },
  "language_info": {
   "codemirror_mode": {
    "name": "ipython",
    "version": 3
   },
   "file_extension": ".py",
   "mimetype": "text/x-python",
   "name": "python",
   "nbconvert_exporter": "python",
   "pygments_lexer": "ipython3",
   "version": "3.6.5"
  }
 },
 "nbformat": 4,
 "nbformat_minor": 2
}
